{
 "cells": [
  {
   "cell_type": "code",
   "execution_count": 1,
   "metadata": {},
   "outputs": [],
   "source": [
    "from bs4 import BeautifulSoup\n",
    "import requests\n",
    "import pandas as pd\n",
    "import numpy as np\n",
    "import sqlite3\n",
    "from datetime import datetime "
   ]
  },
  {
   "cell_type": "code",
   "execution_count": 2,
   "metadata": {},
   "outputs": [],
   "source": [
    "data_url = \"https://web.archive.org/web/20230908091635 /https://en.wikipedia.org/wiki/List_of_largest_banks\"\n",
    "table_name = \"Largest_banks\"\n",
    "db_name = \"Banks.db\"\n",
    "csv_path = \"./Largest_banks_data.csv\"\n",
    "table_attribs = [\"Name\", \"MC_USD_Billion\"]"
   ]
  },
  {
   "cell_type": "code",
   "execution_count": 3,
   "metadata": {},
   "outputs": [],
   "source": [
    "def log_progress(message): \n",
    "    timestamp_format = '%Y-%h-%d-%H:%M:%S' # Year-Monthname-Day-Hour-Minute-Second \n",
    "    now = datetime.now() # get current timestamp \n",
    "    timestamp = now.strftime(timestamp_format) \n",
    "    with open(\"./etl_project_log.txt\",\"a\") as f: \n",
    "        f.write(timestamp + ' : ' + message + '\\n')"
   ]
  },
  {
   "cell_type": "code",
   "execution_count": 4,
   "metadata": {},
   "outputs": [],
   "source": [
    "from pandas import concat\n",
    "\n",
    "\n",
    "def extract(data_url, table_attribs):\n",
    "    page = requests.get(data_url).text\n",
    "    data = BeautifulSoup(page, 'html.parser')\n",
    "    df = pd.DataFrame(columns=table_attribs)\n",
    "    tables = data.find_all('tbody')\n",
    "    rows = tables[0].find_all('tr')\n",
    "    \n",
    "    for row in rows:\n",
    "        col = row.find_all('td')\n",
    "        if len(col) != 0:\n",
    "                data_dict = {\n",
    "                    \"Name\": col[1].find_all('a')[1],\n",
    "                    \"MC_USD_Billion\": float(col[2].contents[0][:-1])\n",
    "                    }\n",
    "                df1 = pd.DataFrame(data_dict, index=[0])\n",
    "                df = pd.concat([df,df1], ignore_index=True)\n",
    "    return df"
   ]
  },
  {
   "cell_type": "code",
   "execution_count": 5,
   "metadata": {},
   "outputs": [],
   "source": [
    "def transform(df):\n",
    "    dataframe = pd.read_csv('C:/ALL/Software/CODE/IDE_WORK_FOLDER/MISC/exchange_rate.csv')\n",
    "    dataframe_dict =  dataframe.set_index('Currency').to_dict()['Rate']\n",
    "    \n",
    "    df['MC_GBP_Billion'] = [np.round(x*dataframe_dict['GBP'],2) for x in df['MC_USD_Billion']]\n",
    "    df['MC_EUR_Billion'] = [np.round(x*dataframe_dict['EUR'],2) for x in df['MC_USD_Billion']]\n",
    "    df['MC_INR_Billion'] = [np.round(x*dataframe_dict['INR'],2) for x in df['MC_USD_Billion']]\n",
    "    \n",
    "    return df"
   ]
  },
  {
   "cell_type": "code",
   "execution_count": 6,
   "metadata": {},
   "outputs": [],
   "source": [
    "def load_to_csv(df, csv_path):\n",
    "    df.to_csv(csv_path)"
   ]
  },
  {
   "cell_type": "code",
   "execution_count": 7,
   "metadata": {},
   "outputs": [],
   "source": [
    "def load_to_db(df, sql_connection, table_name):\n",
    "    df.to_sql(table_name, sql_connection, if_exists='replace', index=False)"
   ]
  },
  {
   "cell_type": "code",
   "execution_count": 8,
   "metadata": {},
   "outputs": [],
   "source": [
    "def run_query(query_statement_1, query_statement_2, query_statement_3, sql_connection):\n",
    "    print(query_statement_1)\n",
    "    query_output_1 = sql_connection.execute(query_statement_1).fetchall()\n",
    "    print(query_output_1)\n",
    "    \n",
    "    print(query_statement_2)\n",
    "    query_output_2 = sql_connection.execute(query_statement_2).fetchall()\n",
    "    print(query_output_2)\n",
    "    \n",
    "    print(query_statement_3)\n",
    "    query_output_3= sql_connection.execute(query_statement_3).fetchall()\n",
    "    print(query_output_3)"
   ]
  },
  {
   "cell_type": "code",
   "execution_count": 9,
   "metadata": {},
   "outputs": [
    {
     "name": "stdout",
     "output_type": "stream",
     "text": [
      "SELECT * FROM Largest_banks\n",
      "[('JPMorgan Chase', 432.92, 346.34, 402.62, 35910.71), ('Bank of America', 231.52, 185.22, 215.31, 19204.58), ('Industrial and Commercial Bank of China', 194.56, 155.65, 180.94, 16138.75), ('Agricultural Bank of China', 160.68, 128.54, 149.43, 13328.41), ('HDFC Bank', 157.91, 126.33, 146.86, 13098.63), ('Wells Fargo', 155.87, 124.7, 144.96, 12929.42), ('HSBC Holdings PLC', 148.9, 119.12, 138.48, 12351.26), ('Morgan Stanley', 140.83, 112.66, 130.97, 11681.85), ('China Construction Bank', 139.82, 111.86, 130.03, 11598.07), ('Bank of China', 136.81, 109.45, 127.23, 11348.39)]\n",
      "SELECT AVG(MC_GBP_Billion) FROM Largest_banks\n",
      "[(151.98700000000002,)]\n",
      "SELECT Name from Largest_banks LIMIT 5\n",
      "[('JPMorgan Chase',), ('Bank of America',), ('Industrial and Commercial Bank of China',), ('Agricultural Bank of China',), ('HDFC Bank',)]\n"
     ]
    },
    {
     "name": "stderr",
     "output_type": "stream",
     "text": [
      "C:\\Users\\Ashish Maharana\\AppData\\Local\\Temp\\ipykernel_3892\\1911429395.py:19: FutureWarning: The behavior of DataFrame concatenation with empty or all-NA entries is deprecated. In a future version, this will no longer exclude empty or all-NA columns when determining the result dtypes. To retain the old behavior, exclude the relevant entries before the concat operation.\n",
      "  df = pd.concat([df,df1], ignore_index=True)\n"
     ]
    }
   ],
   "source": [
    "from sqlite3 import SQLITE_CONSTRAINT_CHECK\n",
    "\n",
    "\n",
    "log_progress('Extracting Data')\n",
    "df = extract(data_url, table_attribs)\n",
    "log_progress('Extraction Complete')\n",
    "log_progress('Begin Transformation')\n",
    "df = transform(df)\n",
    "log_progress('Transform Complete')\n",
    "load_to_csv(df, csv_path)\n",
    "log_progress('Dataframe to CSV Successful')\n",
    "sql_connection = sqlite3.connect(db_name)\n",
    "log_progress('SQL Connection Initiated')\n",
    "load_to_db(df, sql_connection, table_name)\n",
    "log_progress('Data loaded to sql, running query, printing output')\n",
    "\n",
    "#queries\n",
    "\n",
    "query_statement_1 = f\"SELECT * FROM {table_name}\"\n",
    "query_statement_2 = f\"SELECT AVG(MC_GBP_Billion) FROM {table_name}\"\n",
    "query_statement_3 = f\"SELECT {table_attribs[0]} from {table_name} LIMIT 5\"\n",
    "\n",
    "run_query(query_statement_1, query_statement_2, query_statement_3, sql_connection)\n",
    "log_progress('Process Complete.')\n",
    "sql_connection.close()"
   ]
  },
  {
   "cell_type": "code",
   "execution_count": 10,
   "metadata": {},
   "outputs": [
    {
     "data": {
      "text/html": [
       "<div>\n",
       "<style scoped>\n",
       "    .dataframe tbody tr th:only-of-type {\n",
       "        vertical-align: middle;\n",
       "    }\n",
       "\n",
       "    .dataframe tbody tr th {\n",
       "        vertical-align: top;\n",
       "    }\n",
       "\n",
       "    .dataframe thead th {\n",
       "        text-align: right;\n",
       "    }\n",
       "</style>\n",
       "<table border=\"1\" class=\"dataframe\">\n",
       "  <thead>\n",
       "    <tr style=\"text-align: right;\">\n",
       "      <th></th>\n",
       "      <th>Name</th>\n",
       "      <th>MC_USD_Billion</th>\n",
       "      <th>MC_GBP_Billion</th>\n",
       "      <th>MC_EUR_Billion</th>\n",
       "      <th>MC_INR_Billion</th>\n",
       "    </tr>\n",
       "  </thead>\n",
       "  <tbody>\n",
       "    <tr>\n",
       "      <th>0</th>\n",
       "      <td>JPMorgan Chase</td>\n",
       "      <td>432.92</td>\n",
       "      <td>346.34</td>\n",
       "      <td>402.62</td>\n",
       "      <td>35910.71</td>\n",
       "    </tr>\n",
       "    <tr>\n",
       "      <th>1</th>\n",
       "      <td>Bank of America</td>\n",
       "      <td>231.52</td>\n",
       "      <td>185.22</td>\n",
       "      <td>215.31</td>\n",
       "      <td>19204.58</td>\n",
       "    </tr>\n",
       "    <tr>\n",
       "      <th>2</th>\n",
       "      <td>Industrial and Commercial Bank of China</td>\n",
       "      <td>194.56</td>\n",
       "      <td>155.65</td>\n",
       "      <td>180.94</td>\n",
       "      <td>16138.75</td>\n",
       "    </tr>\n",
       "    <tr>\n",
       "      <th>3</th>\n",
       "      <td>Agricultural Bank of China</td>\n",
       "      <td>160.68</td>\n",
       "      <td>128.54</td>\n",
       "      <td>149.43</td>\n",
       "      <td>13328.41</td>\n",
       "    </tr>\n",
       "    <tr>\n",
       "      <th>4</th>\n",
       "      <td>HDFC Bank</td>\n",
       "      <td>157.91</td>\n",
       "      <td>126.33</td>\n",
       "      <td>146.86</td>\n",
       "      <td>13098.63</td>\n",
       "    </tr>\n",
       "    <tr>\n",
       "      <th>5</th>\n",
       "      <td>Wells Fargo</td>\n",
       "      <td>155.87</td>\n",
       "      <td>124.70</td>\n",
       "      <td>144.96</td>\n",
       "      <td>12929.42</td>\n",
       "    </tr>\n",
       "    <tr>\n",
       "      <th>6</th>\n",
       "      <td>HSBC Holdings PLC</td>\n",
       "      <td>148.90</td>\n",
       "      <td>119.12</td>\n",
       "      <td>138.48</td>\n",
       "      <td>12351.26</td>\n",
       "    </tr>\n",
       "    <tr>\n",
       "      <th>7</th>\n",
       "      <td>Morgan Stanley</td>\n",
       "      <td>140.83</td>\n",
       "      <td>112.66</td>\n",
       "      <td>130.97</td>\n",
       "      <td>11681.85</td>\n",
       "    </tr>\n",
       "    <tr>\n",
       "      <th>8</th>\n",
       "      <td>China Construction Bank</td>\n",
       "      <td>139.82</td>\n",
       "      <td>111.86</td>\n",
       "      <td>130.03</td>\n",
       "      <td>11598.07</td>\n",
       "    </tr>\n",
       "    <tr>\n",
       "      <th>9</th>\n",
       "      <td>Bank of China</td>\n",
       "      <td>136.81</td>\n",
       "      <td>109.45</td>\n",
       "      <td>127.23</td>\n",
       "      <td>11348.39</td>\n",
       "    </tr>\n",
       "  </tbody>\n",
       "</table>\n",
       "</div>"
      ],
      "text/plain": [
       "                                      Name  MC_USD_Billion  MC_GBP_Billion  \\\n",
       "0                           JPMorgan Chase          432.92          346.34   \n",
       "1                          Bank of America          231.52          185.22   \n",
       "2  Industrial and Commercial Bank of China          194.56          155.65   \n",
       "3               Agricultural Bank of China          160.68          128.54   \n",
       "4                                HDFC Bank          157.91          126.33   \n",
       "5                              Wells Fargo          155.87          124.70   \n",
       "6                        HSBC Holdings PLC          148.90          119.12   \n",
       "7                           Morgan Stanley          140.83          112.66   \n",
       "8                  China Construction Bank          139.82          111.86   \n",
       "9                            Bank of China          136.81          109.45   \n",
       "\n",
       "   MC_EUR_Billion  MC_INR_Billion  \n",
       "0          402.62        35910.71  \n",
       "1          215.31        19204.58  \n",
       "2          180.94        16138.75  \n",
       "3          149.43        13328.41  \n",
       "4          146.86        13098.63  \n",
       "5          144.96        12929.42  \n",
       "6          138.48        12351.26  \n",
       "7          130.97        11681.85  \n",
       "8          130.03        11598.07  \n",
       "9          127.23        11348.39  "
      ]
     },
     "execution_count": 10,
     "metadata": {},
     "output_type": "execute_result"
    }
   ],
   "source": [
    "df"
   ]
  },
  {
   "cell_type": "code",
   "execution_count": null,
   "metadata": {},
   "outputs": [],
   "source": []
  }
 ],
 "metadata": {
  "kernelspec": {
   "display_name": "Python 3",
   "language": "python",
   "name": "python3"
  },
  "language_info": {
   "codemirror_mode": {
    "name": "ipython",
    "version": 3
   },
   "file_extension": ".py",
   "mimetype": "text/x-python",
   "name": "python",
   "nbconvert_exporter": "python",
   "pygments_lexer": "ipython3",
   "version": "3.11.5"
  }
 },
 "nbformat": 4,
 "nbformat_minor": 2
}
